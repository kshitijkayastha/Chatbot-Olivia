{
  "nbformat": 4,
  "nbformat_minor": 0,
  "metadata": {
    "colab": {
      "name": "chatbot.ipynb",
      "provenance": [],
      "collapsed_sections": [],
      "mount_file_id": "1ftMt9Rw1X-s9F9aCWKrhVU5-uhlZU22k",
      "authorship_tag": "ABX9TyNBQmg5psosCMiakz5nRk8Z"
    },
    "kernelspec": {
      "name": "python3",
      "display_name": "Python 3"
    },
    "language_info": {
      "name": "python"
    }
  },
  "cells": [
    {
      "cell_type": "markdown",
      "source": [
        "# Oliva the Friendly Chatbot\n",
        "\n",
        "Olivia is a friendly chatbot that is powered using a 3 layer Neural Network that uses Nersterov accelerated Stocastic Gradient Descent to learn. \n",
        "\n",
        "She is a baby bot that has the capability to greet you, tell you her name, age, and even her weekend plans. We intend to implement a self-learning feature so that you can have interesting conversations with her!\n",
        "\n"
      ],
      "metadata": {
        "id": "pLEr7iBgmdF2"
      }
    },
    {
      "cell_type": "code",
      "execution_count": 165,
      "metadata": {
        "id": "aW4DlRJpSKQB"
      },
      "outputs": [],
      "source": [
        "import os\n",
        "import json\n",
        "import nltk\n",
        "import pickle\n",
        "import random\n",
        "import string\n",
        "import sklearn\n",
        "import numpy as np\n",
        "from google.colab import drive\n",
        "from nltk.stem import WordNetLemmatizer\n",
        "from tensorflow.keras.optimizers import SGD\n",
        "from keras.models import Sequential\n",
        "from keras.layers import Dense, Dropout"
      ]
    },
    {
      "cell_type": "code",
      "source": [
        "nltk.download('punkt')\n",
        "nltk.download('wordnet')"
      ],
      "metadata": {
        "id": "DYGHqHIKVZZc"
      },
      "execution_count": 182,
      "outputs": []
    },
    {
      "cell_type": "code",
      "source": [
        "drive.mount('/content/drive')"
      ],
      "metadata": {
        "id": "I4cHf3LWUvaL"
      },
      "execution_count": 183,
      "outputs": []
    },
    {
      "cell_type": "code",
      "source": [
        "DIR = '/content/drive/MyDrive/projects/Chatbot/'\n",
        "intents_file = os.path.join(DIR, 'intents.json')"
      ],
      "metadata": {
        "id": "if1kdgp7eenB"
      },
      "execution_count": 168,
      "outputs": []
    },
    {
      "cell_type": "code",
      "source": [
        "with open(intents_file, 'r') as f:\n",
        "  intents = json.load(f)"
      ],
      "metadata": {
        "id": "2drhaqpRUktE"
      },
      "execution_count": 184,
      "outputs": []
    },
    {
      "cell_type": "markdown",
      "source": [
        "# 1. Data Preprocessing\n",
        "\n",
        "We will preprocess the data in **2 steps**. We will first tokenize the intents file data to get a list of words. We will then lemmatize the words to their canonical forms."
      ],
      "metadata": {
        "id": "gMf7AIHWadFP"
      }
    },
    {
      "cell_type": "markdown",
      "source": [
        "## i. Tokenization\n",
        "\n",
        "We start by tokenizing the data to break sentences into words.\n",
        "\n",
        "In the `intents.json` file each tag contains a list of patterns and responses. We will tokenize these patters and add the words into a word list. We will also create a classes and documents list to add all the intents associated with patterns."
      ],
      "metadata": {
        "id": "T96G6S68c28m"
      }
    },
    {
      "cell_type": "code",
      "source": [
        "words = []\n",
        "documents = []\n",
        "classes = set()"
      ],
      "metadata": {
        "id": "JW4T9m_rVAAo"
      },
      "execution_count": 185,
      "outputs": []
    },
    {
      "cell_type": "code",
      "source": [
        "for intent in intents['intents']:\n",
        "    for pattern in intent['patterns']:\n",
        "        # tokenize pattern\n",
        "        tokens = nltk.word_tokenize(pattern)\n",
        "        words.extend(tokens)        \n",
        "        # add documents in the corpus\n",
        "        documents.append((tokens, intent['tag']))\n",
        "        # add the pattern tag to classes\n",
        "        classes.add(intent['tag'])"
      ],
      "metadata": {
        "id": "gn33pGZqVL2p"
      },
      "execution_count": 186,
      "outputs": []
    },
    {
      "cell_type": "markdown",
      "source": [
        "## ii. Word Lemmatization\n",
        "\n",
        "We will use a `lemmatizer` to convert words into their lemma form. For example, the words \"write\", \"writing\", \"written\", etc... will all be replaced with \"write\". We use lemmatization to reduce the number of words in our vocabulary."
      ],
      "metadata": {
        "id": "L-F2_8GpblMt"
      }
    },
    {
      "cell_type": "code",
      "source": [
        "lemmatizer = WordNetLemmatizer()"
      ],
      "metadata": {
        "id": "-JYehlmkVcOM"
      },
      "execution_count": 187,
      "outputs": []
    },
    {
      "cell_type": "code",
      "source": [
        "# lemmatize and lower words\n",
        "words = [lemmatizer.lemmatize(word.lower()) for word in words if word not in string.punctuation]\n",
        "# remove duplicates\n",
        "words = sorted(list(set(words)))\n",
        "# sort classes\n",
        "classes = sorted(list(classes))"
      ],
      "metadata": {
        "id": "XcrFjEehXBKx"
      },
      "execution_count": 188,
      "outputs": []
    },
    {
      "cell_type": "markdown",
      "source": [
        "# 2. Data Preparation\n",
        "\n",
        "We will create **Bag of Words** for word patterns and intents, which will be used to train our model."
      ],
      "metadata": {
        "id": "dIPFv1MifXD1"
      }
    },
    {
      "cell_type": "code",
      "source": [
        "bag_patterns = []\n",
        "bag_intents = []\n",
        "\n",
        "for document in documents:\n",
        "    patterns, intent = document\n",
        "\n",
        "    patterns_row = []\n",
        "    patterns = [lemmatizer.lemmatize(word.lower()) for word in patterns]\n",
        "    for word in words:\n",
        "        patterns_row.append(1) if word in patterns else patterns_row.append(0)\n",
        "    bag_patterns.append(patterns_row)\n",
        "\n",
        "    intents_row = [0] * len(classes)\n",
        "    intents_row[classes.index(intent)] = 1\n",
        "    bag_intents.append(intents_row)"
      ],
      "metadata": {
        "id": "k_EjyhD4fa3V"
      },
      "execution_count": 189,
      "outputs": []
    },
    {
      "cell_type": "code",
      "source": [
        "train_X, train_y = sklearn.utils.shuffle(bag_patterns, bag_intents)"
      ],
      "metadata": {
        "id": "jRZt1r7-1MZt"
      },
      "execution_count": 190,
      "outputs": []
    },
    {
      "cell_type": "markdown",
      "source": [
        "# 3. Model Training\n",
        "\n",
        "We will use a neural network consisting of 3 dense layers with *128*, *64*, and *c* neurons respectively, where c is the number of classes. The dropout layers reduce overfitting.\n",
        "\n",
        "We will also use the SGD to optimize our model. "
      ],
      "metadata": {
        "id": "v7WT5IOE1xQA"
      }
    },
    {
      "cell_type": "code",
      "source": [
        "# Neural Network Model\n",
        "model = Sequential()\n",
        "model.add(Dense(128, input_shape=(len(train_X[0]),), activation='relu'))\n",
        "model.add(Dropout(0.5))\n",
        "model.add(Dense(64, activation='relu'))\n",
        "model.add(Dropout(0.5))\n",
        "model.add(Dense(len(train_y[0]), activation='softmax'))"
      ],
      "metadata": {
        "id": "wtmhUFQB1zpn"
      },
      "execution_count": 191,
      "outputs": []
    },
    {
      "cell_type": "code",
      "source": [
        "sgd = SGD(learning_rate=0.01, decay=1e-6, momentum=0.9, nesterov=True)\n",
        "model.compile(loss='categorical_crossentropy', optimizer=sgd, metrics=['accuracy'])\n",
        "model.fit(np.array(train_X), np.array(train_y), epochs=100, batch_size=5, verbose=1)"
      ],
      "metadata": {
        "colab": {
          "base_uri": "https://localhost:8080/"
        },
        "id": "LKihJjyI4TQl",
        "outputId": "ba4ff4ac-6e38-4d3e-dffe-ce4c28934d9b"
      },
      "execution_count": 192,
      "outputs": [
        {
          "output_type": "stream",
          "name": "stdout",
          "text": [
            "Epoch 1/100\n",
            "4/4 [==============================] - 1s 6ms/step - loss: 1.7434 - accuracy: 0.1000\n",
            "Epoch 2/100\n",
            "4/4 [==============================] - 0s 3ms/step - loss: 1.6253 - accuracy: 0.1500\n",
            "Epoch 3/100\n",
            "4/4 [==============================] - 0s 4ms/step - loss: 1.5759 - accuracy: 0.3500\n",
            "Epoch 4/100\n",
            "4/4 [==============================] - 0s 4ms/step - loss: 1.5493 - accuracy: 0.5000\n",
            "Epoch 5/100\n",
            "4/4 [==============================] - 0s 5ms/step - loss: 1.5220 - accuracy: 0.3500\n",
            "Epoch 6/100\n",
            "4/4 [==============================] - 0s 5ms/step - loss: 1.5362 - accuracy: 0.3000\n",
            "Epoch 7/100\n",
            "4/4 [==============================] - 0s 4ms/step - loss: 1.4213 - accuracy: 0.4000\n",
            "Epoch 8/100\n",
            "4/4 [==============================] - 0s 5ms/step - loss: 1.3931 - accuracy: 0.5000\n",
            "Epoch 9/100\n",
            "4/4 [==============================] - 0s 4ms/step - loss: 1.3340 - accuracy: 0.5500\n",
            "Epoch 10/100\n",
            "4/4 [==============================] - 0s 5ms/step - loss: 1.3022 - accuracy: 0.5500\n",
            "Epoch 11/100\n",
            "4/4 [==============================] - 0s 4ms/step - loss: 1.2437 - accuracy: 0.6000\n",
            "Epoch 12/100\n",
            "4/4 [==============================] - 0s 4ms/step - loss: 1.1678 - accuracy: 0.6000\n",
            "Epoch 13/100\n",
            "4/4 [==============================] - 0s 4ms/step - loss: 1.1725 - accuracy: 0.6500\n",
            "Epoch 14/100\n",
            "4/4 [==============================] - 0s 4ms/step - loss: 0.9757 - accuracy: 0.7500\n",
            "Epoch 15/100\n",
            "4/4 [==============================] - 0s 3ms/step - loss: 0.9980 - accuracy: 0.8500\n",
            "Epoch 16/100\n",
            "4/4 [==============================] - 0s 3ms/step - loss: 1.0395 - accuracy: 0.8000\n",
            "Epoch 17/100\n",
            "4/4 [==============================] - 0s 4ms/step - loss: 0.9642 - accuracy: 0.8000\n",
            "Epoch 18/100\n",
            "4/4 [==============================] - 0s 5ms/step - loss: 0.8653 - accuracy: 0.8500\n",
            "Epoch 19/100\n",
            "4/4 [==============================] - 0s 4ms/step - loss: 0.6900 - accuracy: 0.9000\n",
            "Epoch 20/100\n",
            "4/4 [==============================] - 0s 3ms/step - loss: 0.7681 - accuracy: 0.8500\n",
            "Epoch 21/100\n",
            "4/4 [==============================] - 0s 3ms/step - loss: 0.6642 - accuracy: 0.8000\n",
            "Epoch 22/100\n",
            "4/4 [==============================] - 0s 4ms/step - loss: 0.7173 - accuracy: 0.9000\n",
            "Epoch 23/100\n",
            "4/4 [==============================] - 0s 4ms/step - loss: 0.7271 - accuracy: 0.7000\n",
            "Epoch 24/100\n",
            "4/4 [==============================] - 0s 4ms/step - loss: 0.6160 - accuracy: 0.7000\n",
            "Epoch 25/100\n",
            "4/4 [==============================] - 0s 4ms/step - loss: 0.5628 - accuracy: 0.9000\n",
            "Epoch 26/100\n",
            "4/4 [==============================] - 0s 3ms/step - loss: 0.6328 - accuracy: 0.9000\n",
            "Epoch 27/100\n",
            "4/4 [==============================] - 0s 3ms/step - loss: 0.6212 - accuracy: 0.8000\n",
            "Epoch 28/100\n",
            "4/4 [==============================] - 0s 4ms/step - loss: 0.4780 - accuracy: 0.9000\n",
            "Epoch 29/100\n",
            "4/4 [==============================] - 0s 4ms/step - loss: 0.5367 - accuracy: 0.8500\n",
            "Epoch 30/100\n",
            "4/4 [==============================] - 0s 4ms/step - loss: 0.5347 - accuracy: 0.9000\n",
            "Epoch 31/100\n",
            "4/4 [==============================] - 0s 3ms/step - loss: 0.4037 - accuracy: 1.0000\n",
            "Epoch 32/100\n",
            "4/4 [==============================] - 0s 4ms/step - loss: 0.3679 - accuracy: 0.9500\n",
            "Epoch 33/100\n",
            "4/4 [==============================] - 0s 4ms/step - loss: 0.3230 - accuracy: 0.9000\n",
            "Epoch 34/100\n",
            "4/4 [==============================] - 0s 4ms/step - loss: 0.5041 - accuracy: 0.9000\n",
            "Epoch 35/100\n",
            "4/4 [==============================] - 0s 4ms/step - loss: 0.5017 - accuracy: 0.8000\n",
            "Epoch 36/100\n",
            "4/4 [==============================] - 0s 5ms/step - loss: 0.3259 - accuracy: 0.9500\n",
            "Epoch 37/100\n",
            "4/4 [==============================] - 0s 4ms/step - loss: 0.4410 - accuracy: 0.9000\n",
            "Epoch 38/100\n",
            "4/4 [==============================] - 0s 4ms/step - loss: 0.3269 - accuracy: 0.9500\n",
            "Epoch 39/100\n",
            "4/4 [==============================] - 0s 4ms/step - loss: 0.2280 - accuracy: 1.0000\n",
            "Epoch 40/100\n",
            "4/4 [==============================] - 0s 4ms/step - loss: 0.2791 - accuracy: 0.9500\n",
            "Epoch 41/100\n",
            "4/4 [==============================] - 0s 4ms/step - loss: 0.2298 - accuracy: 0.9500\n",
            "Epoch 42/100\n",
            "4/4 [==============================] - 0s 3ms/step - loss: 0.3947 - accuracy: 0.8500\n",
            "Epoch 43/100\n",
            "4/4 [==============================] - 0s 4ms/step - loss: 0.2596 - accuracy: 0.9500\n",
            "Epoch 44/100\n",
            "4/4 [==============================] - 0s 4ms/step - loss: 0.2271 - accuracy: 0.9500\n",
            "Epoch 45/100\n",
            "4/4 [==============================] - 0s 3ms/step - loss: 0.4316 - accuracy: 0.7500\n",
            "Epoch 46/100\n",
            "4/4 [==============================] - 0s 5ms/step - loss: 0.2009 - accuracy: 0.9500\n",
            "Epoch 47/100\n",
            "4/4 [==============================] - 0s 5ms/step - loss: 0.2096 - accuracy: 1.0000\n",
            "Epoch 48/100\n",
            "4/4 [==============================] - 0s 5ms/step - loss: 0.1898 - accuracy: 1.0000\n",
            "Epoch 49/100\n",
            "4/4 [==============================] - 0s 4ms/step - loss: 0.1526 - accuracy: 0.9500\n",
            "Epoch 50/100\n",
            "4/4 [==============================] - 0s 4ms/step - loss: 0.1932 - accuracy: 1.0000\n",
            "Epoch 51/100\n",
            "4/4 [==============================] - 0s 3ms/step - loss: 0.1951 - accuracy: 0.9500\n",
            "Epoch 52/100\n",
            "4/4 [==============================] - 0s 3ms/step - loss: 0.3378 - accuracy: 0.9500\n",
            "Epoch 53/100\n",
            "4/4 [==============================] - 0s 3ms/step - loss: 0.1838 - accuracy: 1.0000\n",
            "Epoch 54/100\n",
            "4/4 [==============================] - 0s 3ms/step - loss: 0.1252 - accuracy: 1.0000\n",
            "Epoch 55/100\n",
            "4/4 [==============================] - 0s 4ms/step - loss: 0.0932 - accuracy: 1.0000\n",
            "Epoch 56/100\n",
            "4/4 [==============================] - 0s 5ms/step - loss: 0.2536 - accuracy: 1.0000\n",
            "Epoch 57/100\n",
            "4/4 [==============================] - 0s 7ms/step - loss: 0.2506 - accuracy: 0.9500\n",
            "Epoch 58/100\n",
            "4/4 [==============================] - 0s 4ms/step - loss: 0.0951 - accuracy: 1.0000\n",
            "Epoch 59/100\n",
            "4/4 [==============================] - 0s 4ms/step - loss: 0.1827 - accuracy: 1.0000\n",
            "Epoch 60/100\n",
            "4/4 [==============================] - 0s 3ms/step - loss: 0.2310 - accuracy: 1.0000\n",
            "Epoch 61/100\n",
            "4/4 [==============================] - 0s 3ms/step - loss: 0.1187 - accuracy: 1.0000\n",
            "Epoch 62/100\n",
            "4/4 [==============================] - 0s 4ms/step - loss: 0.1340 - accuracy: 1.0000\n",
            "Epoch 63/100\n",
            "4/4 [==============================] - 0s 4ms/step - loss: 0.0794 - accuracy: 1.0000\n",
            "Epoch 64/100\n",
            "4/4 [==============================] - 0s 4ms/step - loss: 0.0658 - accuracy: 1.0000\n",
            "Epoch 65/100\n",
            "4/4 [==============================] - 0s 4ms/step - loss: 0.1461 - accuracy: 1.0000\n",
            "Epoch 66/100\n",
            "4/4 [==============================] - 0s 3ms/step - loss: 0.0940 - accuracy: 1.0000\n",
            "Epoch 67/100\n",
            "4/4 [==============================] - 0s 3ms/step - loss: 0.0548 - accuracy: 1.0000\n",
            "Epoch 68/100\n",
            "4/4 [==============================] - 0s 3ms/step - loss: 0.0559 - accuracy: 1.0000\n",
            "Epoch 69/100\n",
            "4/4 [==============================] - 0s 4ms/step - loss: 0.0728 - accuracy: 1.0000\n",
            "Epoch 70/100\n",
            "4/4 [==============================] - 0s 3ms/step - loss: 0.0708 - accuracy: 1.0000\n",
            "Epoch 71/100\n",
            "4/4 [==============================] - 0s 3ms/step - loss: 0.1070 - accuracy: 0.9500\n",
            "Epoch 72/100\n",
            "4/4 [==============================] - 0s 3ms/step - loss: 0.0689 - accuracy: 1.0000\n",
            "Epoch 73/100\n",
            "4/4 [==============================] - 0s 4ms/step - loss: 0.1295 - accuracy: 0.9500\n",
            "Epoch 74/100\n",
            "4/4 [==============================] - 0s 5ms/step - loss: 0.2296 - accuracy: 0.9500\n",
            "Epoch 75/100\n",
            "4/4 [==============================] - 0s 4ms/step - loss: 0.0763 - accuracy: 1.0000\n",
            "Epoch 76/100\n",
            "4/4 [==============================] - 0s 4ms/step - loss: 0.0641 - accuracy: 1.0000\n",
            "Epoch 77/100\n",
            "4/4 [==============================] - 0s 5ms/step - loss: 0.1710 - accuracy: 0.9500\n",
            "Epoch 78/100\n",
            "4/4 [==============================] - 0s 4ms/step - loss: 0.0263 - accuracy: 1.0000\n",
            "Epoch 79/100\n",
            "4/4 [==============================] - 0s 4ms/step - loss: 0.0440 - accuracy: 1.0000\n",
            "Epoch 80/100\n",
            "4/4 [==============================] - 0s 4ms/step - loss: 0.0933 - accuracy: 0.9500\n",
            "Epoch 81/100\n",
            "4/4 [==============================] - 0s 5ms/step - loss: 0.0537 - accuracy: 1.0000\n",
            "Epoch 82/100\n",
            "4/4 [==============================] - 0s 5ms/step - loss: 0.0764 - accuracy: 1.0000\n",
            "Epoch 83/100\n",
            "4/4 [==============================] - 0s 3ms/step - loss: 0.0491 - accuracy: 1.0000\n",
            "Epoch 84/100\n",
            "4/4 [==============================] - 0s 4ms/step - loss: 0.1399 - accuracy: 0.9500\n",
            "Epoch 85/100\n",
            "4/4 [==============================] - 0s 3ms/step - loss: 0.1620 - accuracy: 0.9500\n",
            "Epoch 86/100\n",
            "4/4 [==============================] - 0s 4ms/step - loss: 0.0842 - accuracy: 1.0000\n",
            "Epoch 87/100\n",
            "4/4 [==============================] - 0s 4ms/step - loss: 0.0323 - accuracy: 1.0000\n",
            "Epoch 88/100\n",
            "4/4 [==============================] - 0s 4ms/step - loss: 0.0817 - accuracy: 1.0000\n",
            "Epoch 89/100\n",
            "4/4 [==============================] - 0s 4ms/step - loss: 0.0600 - accuracy: 1.0000\n",
            "Epoch 90/100\n",
            "4/4 [==============================] - 0s 3ms/step - loss: 0.0535 - accuracy: 1.0000\n",
            "Epoch 91/100\n",
            "4/4 [==============================] - 0s 5ms/step - loss: 0.0381 - accuracy: 1.0000\n",
            "Epoch 92/100\n",
            "4/4 [==============================] - 0s 3ms/step - loss: 0.0551 - accuracy: 1.0000\n",
            "Epoch 93/100\n",
            "4/4 [==============================] - 0s 3ms/step - loss: 0.1117 - accuracy: 1.0000\n",
            "Epoch 94/100\n",
            "4/4 [==============================] - 0s 4ms/step - loss: 0.0604 - accuracy: 1.0000\n",
            "Epoch 95/100\n",
            "4/4 [==============================] - 0s 6ms/step - loss: 0.0719 - accuracy: 0.9500\n",
            "Epoch 96/100\n",
            "4/4 [==============================] - 0s 4ms/step - loss: 0.0432 - accuracy: 1.0000\n",
            "Epoch 97/100\n",
            "4/4 [==============================] - 0s 4ms/step - loss: 0.0232 - accuracy: 1.0000\n",
            "Epoch 98/100\n",
            "4/4 [==============================] - 0s 3ms/step - loss: 0.0375 - accuracy: 1.0000\n",
            "Epoch 99/100\n",
            "4/4 [==============================] - 0s 3ms/step - loss: 0.0319 - accuracy: 1.0000\n",
            "Epoch 100/100\n",
            "4/4 [==============================] - 0s 3ms/step - loss: 0.0190 - accuracy: 1.0000\n"
          ]
        },
        {
          "output_type": "execute_result",
          "data": {
            "text/plain": [
              "<keras.callbacks.History at 0x7f0eb032d0d0>"
            ]
          },
          "metadata": {},
          "execution_count": 192
        }
      ]
    },
    {
      "cell_type": "code",
      "source": [
        "def bag_of_words(sentence): \n",
        "    tokens = nltk.word_tokenize(sentence)\n",
        "    tokens = [lemmatizer.lemmatize(token.lower()) for token in tokens]\n",
        "\n",
        "    bag = [0] * len(words)\n",
        "    for token in tokens: \n",
        "        for i, word in enumerate(words):\n",
        "            if token == word: \n",
        "                bag[i] = 1\n",
        "    return np.array(bag)"
      ],
      "metadata": {
        "id": "RKH067BYZD_4"
      },
      "execution_count": 193,
      "outputs": []
    },
    {
      "cell_type": "code",
      "source": [
        "def pred_class(sentence): \n",
        "    bag = bag_of_words(sentence)\n",
        "    result = model.predict(np.array([bag]))[0]\n",
        "    THRESHOLD = 0.25\n",
        "    y_pred = [[i, res] for i, res in enumerate(result) if res > THRESHOLD]\n",
        "\n",
        "    y_pred.sort(key=lambda x: x[1], reverse=True)\n",
        "    return_list = []\n",
        "    for r in y_pred:\n",
        "        return_list.append(classes[r[0]])\n",
        "    return return_list"
      ],
      "metadata": {
        "id": "yrOxJEIsZXUG"
      },
      "execution_count": 194,
      "outputs": []
    },
    {
      "cell_type": "code",
      "source": [
        "def get_response(tags, intents): \n",
        "    tag = tags[0]\n",
        "    list_of_intents = intents[\"intents\"]\n",
        "    for i in list_of_intents: \n",
        "        if i[\"tag\"] == tag:\n",
        "            result = random.choice(i[\"responses\"])\n",
        "            break\n",
        "    return result"
      ],
      "metadata": {
        "id": "No4QrDTJZuvU"
      },
      "execution_count": 195,
      "outputs": []
    },
    {
      "cell_type": "code",
      "source": [
        "while True:\n",
        "    message = input(\"You: \")\n",
        "    c = pred_class(message)\n",
        "    result = get_response(c, intents)\n",
        "    print(\"Bot :\", result)\n",
        "    print ()\n",
        "    if c[0] == \"goodbye\":\n",
        "        break"
      ],
      "metadata": {
        "colab": {
          "base_uri": "https://localhost:8080/"
        },
        "id": "c0mD84C-Z2dV",
        "outputId": "5a039aa1-d470-49bc-c3e7-0f8e5683afb1"
      },
      "execution_count": 196,
      "outputs": [
        {
          "output_type": "stream",
          "name": "stdout",
          "text": [
            "You: Hello\n",
            "Bot : How are you doing?\n",
            "\n",
            "You: What is your name?\n",
            "Bot : I'm Olivia\n",
            "\n",
            "You: How old are you?\n",
            "Bot : My birthday is June 4th and I was born in 1998\n",
            "\n",
            "You: What are you doing on the weekend?\n",
            "Bot : I am not busy\n",
            "\n",
            "You: Any plans for the weekend?\n",
            "Bot : I am available all week\n",
            "\n",
            "You: When were you born?\n",
            "Bot : My birthday is June 4th and I was born in 1998\n",
            "\n",
            "You: Bie\n",
            "Bot : Speak soon!\n",
            "\n"
          ]
        }
      ]
    }
  ]
}